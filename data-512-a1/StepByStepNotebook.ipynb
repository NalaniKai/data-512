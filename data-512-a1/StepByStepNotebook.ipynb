{
 "cells": [
  {
   "cell_type": "markdown",
   "metadata": {},
   "source": [
    "# DATA 512: A1 Data Curation Assignment\n",
    "By: Megan Nalani Chun"
   ]
  },
  {
   "cell_type": "markdown",
   "metadata": {},
   "source": [
    "## Step 1: Gathering the data <br>\n",
    "Wikipedia traffic from Jan 1, 2008 - August 30, 2020 <br>\n",
    "- Legacy Pagecounts API provides desktop and mobile traffic data from Dec. 2007 - July 2016 <br>\n",
    "- Pageviews API provides desktop, mobile web, and mobile app traffic data from July 2015 - last month. \n"
   ]
  },
  {
   "cell_type": "markdown",
   "metadata": {},
   "source": [
    "First, import the json and requests libraries to call the Pagecounts and Pageviews APIs and save the output in json format."
   ]
  },
  {
   "cell_type": "code",
   "execution_count": 1,
   "metadata": {},
   "outputs": [],
   "source": [
    "import json\n",
    "import requests"
   ]
  },
  {
   "cell_type": "markdown",
   "metadata": {},
   "source": [
    "Second, set the location of the endpoints and header information"
   ]
  },
  {
   "cell_type": "code",
   "execution_count": 2,
   "metadata": {},
   "outputs": [],
   "source": [
    "endpoint_legacy = 'https://wikimedia.org/api/rest_v1/metrics/legacy/pagecounts/aggregate/{project}/{access-site}/{granularity}/{start}/{end}'\n",
    "\n",
    "endpoint_pageviews = 'https://wikimedia.org/api/rest_v1/metrics/pageviews/aggregate/{project}/{access}/{agent}/{granularity}/{start}/{end}'\n",
    "\n",
    "headers = {\n",
    "    'User-Agent': 'https://github.com/NalaniKai/',\n",
    "    'From': 'nalani23@uw.edu'\n",
    "}"
   ]
  },
  {
   "cell_type": "markdown",
   "metadata": {},
   "source": [
    "Third, define a function to call the APIs taking in the endpoint and parameters (defined below)"
   ]
  },
  {
   "cell_type": "code",
   "execution_count": 3,
   "metadata": {},
   "outputs": [],
   "source": [
    "def api_call(endpoint,parameters):\n",
    "    call = requests.get(endpoint.format(**parameters), headers=headers)\n",
    "    response = call.json()\n",
    "    \n",
    "    return response"
   ]
  },
  {
   "cell_type": "markdown",
   "metadata": {},
   "source": [
    "Fourth, define a function to make the api_call() with the correct parameters and save the output to json file in format apiname_accesstype_startyearmonth_endyearmonth.json"
   ]
  },
  {
   "cell_type": "code",
   "execution_count": 4,
   "metadata": {},
   "outputs": [],
   "source": [
    "def get_data(api, access_dict, params, endpoint):\n",
    "    start = 0 #index of start date\n",
    "    end = 1   #index of end data\n",
    "    year_month = 6 #size of YYYYMM\n",
    "    for access_type, start_end_dates in access_dict.items():\n",
    "        params[\"access-site\"] = access_type\n",
    "        data = api_call(endpoint, params)\n",
    "        with open(api + \"_\" + access_type + \"_\" + start_end_dates[start][:year_month] + \"_\" + start_end_dates[end][:year_month] + \".json\", 'w') as f:\n",
    "            json.dump(data, f)"
   ]
  },
  {
   "cell_type": "markdown",
   "metadata": {},
   "source": [
    "Fifth, define the parameters for the legacy page count API and call the get_data function. This will pull the data and save it."
   ]
  },
  {
   "cell_type": "code",
   "execution_count": 37,
   "metadata": {},
   "outputs": [],
   "source": [
    "api = \"pagecounts\"\n",
    "access_type_legacy = {\"desktop-site\": [\"2008010100\", \"2016070100\"], \n",
    "                     \"mobile-site\": [\"2014100100\", \"2016070100\"]}\n",
    "# see: https://wikimedia.org/api/rest_v1/#!/Legacy_data/get_metrics_legacy_pagecounts_aggregate_project_access_site_granularity_start_end\n",
    "params_legacy = {\"project\" : \"en.wikipedia.org\",\n",
    "                 #\"access-site\" : \"desktop-site\",\n",
    "                 \"granularity\" : \"monthly\",\n",
    "                 \"start\" : \"2008010100\",\n",
    "                # for end use 1st day of month following final month of data\n",
    "                 \"end\" : \"2016080100\"\n",
    "                    }\n",
    "get_data(api, access_type_legacy, params_legacy, endpoint_legacy)"
   ]
  },
  {
   "cell_type": "markdown",
   "metadata": {},
   "source": [
    "Sixth, define the parameters for the page views API and call the get_data function. This will pull the data and save it."
   ]
  },
  {
   "cell_type": "code",
   "execution_count": 7,
   "metadata": {},
   "outputs": [],
   "source": [
    "api = \"pageviews\"\n",
    "start_end_dates = [\"2015070100\", \"2020080100\"]\n",
    "access_type_pageviews = {\"desktop\": start_end_dates, \n",
    "                        \"mobile-app\": start_end_dates, \n",
    "                        \"mobile-web\": start_end_dates }\n",
    "# see: https://wikimedia.org/api/rest_v1/#!/Pageviews_data/get_metrics_pageviews_aggregate_project_access_agent_granularity_start_end\n",
    "params_pageviews = {\"project\" : \"en.wikipedia.org\",\n",
    "                    \"access\" : \"mobile-web\",\n",
    "                    \"agent\" : \"user\",\n",
    "                    \"granularity\" : \"monthly\",\n",
    "                    \"start\" : \"2008010100\",\n",
    "                    # for end use 1st day of month following final month of data\n",
    "                    \"end\" : '2020090100'\n",
    "                        }\n",
    "get_data(api, access_type_pageviews, params_pageviews, endpoint_pageviews)                       "
   ]
  },
  {
   "cell_type": "markdown",
   "metadata": {},
   "source": [
    "## Step 2: Processing the data"
   ]
  },
  {
   "cell_type": "markdown",
   "metadata": {},
   "source": [
    "First, create a function to read in all data files and extract the list of records from items."
   ]
  },
  {
   "cell_type": "code",
   "execution_count": 8,
   "metadata": {},
   "outputs": [],
   "source": [
    "def read_json(filename):\n",
    "    with open(filename, 'r') as f:\n",
    "        return json.load(f)[\"items\"]"
   ]
  },
  {
   "cell_type": "markdown",
   "metadata": {},
   "source": [
    "Second, use the read_json function to get a list of records for each file."
   ]
  },
  {
   "cell_type": "code",
   "execution_count": 38,
   "metadata": {},
   "outputs": [],
   "source": [
    "pageviews_mobile_web = read_json(\"pageviews_mobile-web_201507_202008.json\")\n",
    "pageviews_mobile_app = read_json(\"pageviews_mobile-app_201507_202008.json\")\n",
    "pageviews_desktop = read_json(\"pageviews_desktop_201507_202008.json\")\n",
    "pagecounts_mobile = read_json(\"pagecounts_mobile-site_201410_201607.json\")\n",
    "pagecounts_desktop = read_json(\"pagecounts_desktop-site_200801_201607.json\")"
   ]
  },
  {
   "cell_type": "markdown",
   "metadata": {},
   "source": [
    "Third, create a total mobile traffic count for each month using the mobile-app and mobile-web data from the pageviews API. The list of [timestamp, view_count] pairs data structure will enable easy transformation into a dataframe."
   ]
  },
  {
   "cell_type": "code",
   "execution_count": 39,
   "metadata": {
    "tags": []
   },
   "outputs": [],
   "source": [
    "pageviews_mobile = [[r1[\"timestamp\"], r0[\"views\"] + r1[\"views\"]] for r0 in pageviews_mobile_web for r1 in pageviews_mobile_app if r0[\"timestamp\"] == r1[\"timestamp\"]]"
   ]
  },
  {
   "cell_type": "markdown",
   "metadata": {},
   "source": [
    "Fourth, get the timestamps and values for the desktop pageviews, desktop pagecounts, and mobile pagecounts. The list of [timestamp, view_count] pairs data structure will enable easy transformation into a dataframe."
   ]
  },
  {
   "cell_type": "code",
   "execution_count": 40,
   "metadata": {
    "tags": []
   },
   "outputs": [],
   "source": [
    "pageviews_desktop = [[record[\"timestamp\"], record[\"views\"]] for record in pageviews_desktop]\n",
    "pagecounts_desktop = [[record[\"timestamp\"], record[\"count\"]] for record in pagecounts_desktop]\n",
    "pagecounts_mobile = [[record[\"timestamp\"], record[\"count\"]] for record in pagecounts_mobile]"
   ]
  },
  {
   "cell_type": "markdown",
   "metadata": {},
   "source": [
    "Fifth, import pandas library and transform data into dataframes."
   ]
  },
  {
   "cell_type": "code",
   "execution_count": 41,
   "metadata": {},
   "outputs": [],
   "source": [
    "import pandas as pd \n",
    "pageview_desktop_views = pd.DataFrame(pageviews_desktop, columns=[\"timestamp\", \"pageview_desktop_views\"])\n",
    "pageview_mobile_views = pd.DataFrame(pageviews_mobile, columns=[\"timestamp\", \"pageview_mobile_views\"])\n",
    "pagecounts_desktop = pd.DataFrame(pagecounts_desktop, columns=[\"timestamp\", \"pagecount_desktop_views\"])\n",
    "pagecounts_mobile = pd.DataFrame(pagecounts_mobile, columns=[\"timestamp\", \"pagecount_mobile_views\"])"
   ]
  },
  {
   "cell_type": "markdown",
   "metadata": {},
   "source": [
    "Sixth, join page view dataframes and calculate total for all views."
   ]
  },
  {
   "cell_type": "code",
   "execution_count": 42,
   "metadata": {},
   "outputs": [
    {
     "data": {
      "text/html": [
       "<div>\n",
       "<style scoped>\n",
       "    .dataframe tbody tr th:only-of-type {\n",
       "        vertical-align: middle;\n",
       "    }\n",
       "\n",
       "    .dataframe tbody tr th {\n",
       "        vertical-align: top;\n",
       "    }\n",
       "\n",
       "    .dataframe thead th {\n",
       "        text-align: right;\n",
       "    }\n",
       "</style>\n",
       "<table border=\"1\" class=\"dataframe\">\n",
       "  <thead>\n",
       "    <tr style=\"text-align: right;\">\n",
       "      <th></th>\n",
       "      <th>timestamp</th>\n",
       "      <th>pageview_desktop_views</th>\n",
       "      <th>pageview_mobile_views</th>\n",
       "      <th>pageview_all_views</th>\n",
       "    </tr>\n",
       "  </thead>\n",
       "  <tbody>\n",
       "    <tr>\n",
       "      <th>0</th>\n",
       "      <td>2015070100</td>\n",
       "      <td>3179131148</td>\n",
       "      <td>6358262296</td>\n",
       "      <td>9537393444</td>\n",
       "    </tr>\n",
       "    <tr>\n",
       "      <th>1</th>\n",
       "      <td>2015080100</td>\n",
       "      <td>3192663889</td>\n",
       "      <td>6385327778</td>\n",
       "      <td>9577991667</td>\n",
       "    </tr>\n",
       "    <tr>\n",
       "      <th>2</th>\n",
       "      <td>2015090100</td>\n",
       "      <td>3073981649</td>\n",
       "      <td>6147963298</td>\n",
       "      <td>9221944947</td>\n",
       "    </tr>\n",
       "    <tr>\n",
       "      <th>3</th>\n",
       "      <td>2015100100</td>\n",
       "      <td>3173975355</td>\n",
       "      <td>6347950710</td>\n",
       "      <td>9521926065</td>\n",
       "    </tr>\n",
       "    <tr>\n",
       "      <th>4</th>\n",
       "      <td>2015110100</td>\n",
       "      <td>3142247145</td>\n",
       "      <td>6284494290</td>\n",
       "      <td>9426741435</td>\n",
       "    </tr>\n",
       "  </tbody>\n",
       "</table>\n",
       "</div>"
      ],
      "text/plain": [
       "    timestamp  pageview_desktop_views  pageview_mobile_views  \\\n",
       "0  2015070100              3179131148             6358262296   \n",
       "1  2015080100              3192663889             6385327778   \n",
       "2  2015090100              3073981649             6147963298   \n",
       "3  2015100100              3173975355             6347950710   \n",
       "4  2015110100              3142247145             6284494290   \n",
       "\n",
       "   pageview_all_views  \n",
       "0          9537393444  \n",
       "1          9577991667  \n",
       "2          9221944947  \n",
       "3          9521926065  \n",
       "4          9426741435  "
      ]
     },
     "execution_count": 42,
     "metadata": {},
     "output_type": "execute_result"
    }
   ],
   "source": [
    "df_pageviews = pd.merge(pageview_desktop_views, pageview_mobile_views, how=\"outer\", on=\"timestamp\")\n",
    "df_pageviews[\"pageview_all_views\"] = df_pageviews[\"pageview_desktop_views\"] + df_pageviews[\"pageview_mobile_views\"]\n",
    "df_pageviews.head()"
   ]
  },
  {
   "cell_type": "markdown",
   "metadata": {},
   "source": [
    "Seventh, join page count dataframes, fill in NaN values with 0, and calculate total for all counts."
   ]
  },
  {
   "cell_type": "code",
   "execution_count": 43,
   "metadata": {},
   "outputs": [
    {
     "data": {
      "text/html": [
       "<div>\n",
       "<style scoped>\n",
       "    .dataframe tbody tr th:only-of-type {\n",
       "        vertical-align: middle;\n",
       "    }\n",
       "\n",
       "    .dataframe tbody tr th {\n",
       "        vertical-align: top;\n",
       "    }\n",
       "\n",
       "    .dataframe thead th {\n",
       "        text-align: right;\n",
       "    }\n",
       "</style>\n",
       "<table border=\"1\" class=\"dataframe\">\n",
       "  <thead>\n",
       "    <tr style=\"text-align: right;\">\n",
       "      <th></th>\n",
       "      <th>timestamp</th>\n",
       "      <th>pagecount_desktop_views</th>\n",
       "      <th>pagecount_mobile_views</th>\n",
       "      <th>pagecount_all_views</th>\n",
       "    </tr>\n",
       "  </thead>\n",
       "  <tbody>\n",
       "    <tr>\n",
       "      <th>0</th>\n",
       "      <td>2008010100</td>\n",
       "      <td>4930902570</td>\n",
       "      <td>0.0</td>\n",
       "      <td>4.930903e+09</td>\n",
       "    </tr>\n",
       "    <tr>\n",
       "      <th>1</th>\n",
       "      <td>2008020100</td>\n",
       "      <td>4818393763</td>\n",
       "      <td>0.0</td>\n",
       "      <td>4.818394e+09</td>\n",
       "    </tr>\n",
       "    <tr>\n",
       "      <th>2</th>\n",
       "      <td>2008030100</td>\n",
       "      <td>4955405809</td>\n",
       "      <td>0.0</td>\n",
       "      <td>4.955406e+09</td>\n",
       "    </tr>\n",
       "    <tr>\n",
       "      <th>3</th>\n",
       "      <td>2008040100</td>\n",
       "      <td>5159162183</td>\n",
       "      <td>0.0</td>\n",
       "      <td>5.159162e+09</td>\n",
       "    </tr>\n",
       "    <tr>\n",
       "      <th>4</th>\n",
       "      <td>2008050100</td>\n",
       "      <td>5584691092</td>\n",
       "      <td>0.0</td>\n",
       "      <td>5.584691e+09</td>\n",
       "    </tr>\n",
       "  </tbody>\n",
       "</table>\n",
       "</div>"
      ],
      "text/plain": [
       "    timestamp  pagecount_desktop_views  pagecount_mobile_views  \\\n",
       "0  2008010100               4930902570                     0.0   \n",
       "1  2008020100               4818393763                     0.0   \n",
       "2  2008030100               4955405809                     0.0   \n",
       "3  2008040100               5159162183                     0.0   \n",
       "4  2008050100               5584691092                     0.0   \n",
       "\n",
       "   pagecount_all_views  \n",
       "0         4.930903e+09  \n",
       "1         4.818394e+09  \n",
       "2         4.955406e+09  \n",
       "3         5.159162e+09  \n",
       "4         5.584691e+09  "
      ]
     },
     "execution_count": 43,
     "metadata": {},
     "output_type": "execute_result"
    }
   ],
   "source": [
    "df_pagecounts = pd.merge(pagecounts_desktop, pagecounts_mobile, how=\"outer\", on=\"timestamp\")\n",
    "df_pagecounts[\"pagecount_mobile_views\"] = df_pagecounts[\"pagecount_mobile_views\"].fillna(0)\n",
    "df_pagecounts[\"pagecount_all_views\"] = df_pagecounts[\"pagecount_desktop_views\"] + df_pagecounts[\"pagecount_mobile_views\"]\n",
    "df_pagecounts.head()"
   ]
  },
  {
   "cell_type": "markdown",
   "metadata": {},
   "source": [
    "Eighth, join page count and page view dataframes into one table. Filling in missing values with 0."
   ]
  },
  {
   "cell_type": "code",
   "execution_count": 44,
   "metadata": {},
   "outputs": [
    {
     "data": {
      "text/html": [
       "<div>\n",
       "<style scoped>\n",
       "    .dataframe tbody tr th:only-of-type {\n",
       "        vertical-align: middle;\n",
       "    }\n",
       "\n",
       "    .dataframe tbody tr th {\n",
       "        vertical-align: top;\n",
       "    }\n",
       "\n",
       "    .dataframe thead th {\n",
       "        text-align: right;\n",
       "    }\n",
       "</style>\n",
       "<table border=\"1\" class=\"dataframe\">\n",
       "  <thead>\n",
       "    <tr style=\"text-align: right;\">\n",
       "      <th></th>\n",
       "      <th>timestamp</th>\n",
       "      <th>pagecount_desktop_views</th>\n",
       "      <th>pagecount_mobile_views</th>\n",
       "      <th>pagecount_all_views</th>\n",
       "      <th>pageview_desktop_views</th>\n",
       "      <th>pageview_mobile_views</th>\n",
       "      <th>pageview_all_views</th>\n",
       "    </tr>\n",
       "  </thead>\n",
       "  <tbody>\n",
       "    <tr>\n",
       "      <th>0</th>\n",
       "      <td>2008010100</td>\n",
       "      <td>4.930903e+09</td>\n",
       "      <td>0.0</td>\n",
       "      <td>4.930903e+09</td>\n",
       "      <td>0.0</td>\n",
       "      <td>0.0</td>\n",
       "      <td>0.0</td>\n",
       "    </tr>\n",
       "    <tr>\n",
       "      <th>1</th>\n",
       "      <td>2008020100</td>\n",
       "      <td>4.818394e+09</td>\n",
       "      <td>0.0</td>\n",
       "      <td>4.818394e+09</td>\n",
       "      <td>0.0</td>\n",
       "      <td>0.0</td>\n",
       "      <td>0.0</td>\n",
       "    </tr>\n",
       "    <tr>\n",
       "      <th>2</th>\n",
       "      <td>2008030100</td>\n",
       "      <td>4.955406e+09</td>\n",
       "      <td>0.0</td>\n",
       "      <td>4.955406e+09</td>\n",
       "      <td>0.0</td>\n",
       "      <td>0.0</td>\n",
       "      <td>0.0</td>\n",
       "    </tr>\n",
       "    <tr>\n",
       "      <th>3</th>\n",
       "      <td>2008040100</td>\n",
       "      <td>5.159162e+09</td>\n",
       "      <td>0.0</td>\n",
       "      <td>5.159162e+09</td>\n",
       "      <td>0.0</td>\n",
       "      <td>0.0</td>\n",
       "      <td>0.0</td>\n",
       "    </tr>\n",
       "    <tr>\n",
       "      <th>4</th>\n",
       "      <td>2008050100</td>\n",
       "      <td>5.584691e+09</td>\n",
       "      <td>0.0</td>\n",
       "      <td>5.584691e+09</td>\n",
       "      <td>0.0</td>\n",
       "      <td>0.0</td>\n",
       "      <td>0.0</td>\n",
       "    </tr>\n",
       "  </tbody>\n",
       "</table>\n",
       "</div>"
      ],
      "text/plain": [
       "    timestamp  pagecount_desktop_views  pagecount_mobile_views  \\\n",
       "0  2008010100             4.930903e+09                     0.0   \n",
       "1  2008020100             4.818394e+09                     0.0   \n",
       "2  2008030100             4.955406e+09                     0.0   \n",
       "3  2008040100             5.159162e+09                     0.0   \n",
       "4  2008050100             5.584691e+09                     0.0   \n",
       "\n",
       "   pagecount_all_views  pageview_desktop_views  pageview_mobile_views  \\\n",
       "0         4.930903e+09                     0.0                    0.0   \n",
       "1         4.818394e+09                     0.0                    0.0   \n",
       "2         4.955406e+09                     0.0                    0.0   \n",
       "3         5.159162e+09                     0.0                    0.0   \n",
       "4         5.584691e+09                     0.0                    0.0   \n",
       "\n",
       "   pageview_all_views  \n",
       "0                 0.0  \n",
       "1                 0.0  \n",
       "2                 0.0  \n",
       "3                 0.0  \n",
       "4                 0.0  "
      ]
     },
     "execution_count": 44,
     "metadata": {},
     "output_type": "execute_result"
    }
   ],
   "source": [
    "df = pd.merge(df_pagecounts, df_pageviews, how=\"outer\", on=\"timestamp\")\n",
    "df = df.fillna(0)\n",
    "df.head()"
   ]
  },
  {
   "cell_type": "markdown",
   "metadata": {},
   "source": [
    "Ninth, separate the timestamp into the year and month in YYYY and MM format for all the data. Remove the timestamp column."
   ]
  },
  {
   "cell_type": "code",
   "execution_count": 45,
   "metadata": {},
   "outputs": [
    {
     "data": {
      "text/html": [
       "<div>\n",
       "<style scoped>\n",
       "    .dataframe tbody tr th:only-of-type {\n",
       "        vertical-align: middle;\n",
       "    }\n",
       "\n",
       "    .dataframe tbody tr th {\n",
       "        vertical-align: top;\n",
       "    }\n",
       "\n",
       "    .dataframe thead th {\n",
       "        text-align: right;\n",
       "    }\n",
       "</style>\n",
       "<table border=\"1\" class=\"dataframe\">\n",
       "  <thead>\n",
       "    <tr style=\"text-align: right;\">\n",
       "      <th></th>\n",
       "      <th>pagecount_desktop_views</th>\n",
       "      <th>pagecount_mobile_views</th>\n",
       "      <th>pagecount_all_views</th>\n",
       "      <th>pageview_desktop_views</th>\n",
       "      <th>pageview_mobile_views</th>\n",
       "      <th>pageview_all_views</th>\n",
       "      <th>year</th>\n",
       "      <th>month</th>\n",
       "    </tr>\n",
       "  </thead>\n",
       "  <tbody>\n",
       "    <tr>\n",
       "      <th>0</th>\n",
       "      <td>4.930903e+09</td>\n",
       "      <td>0.0</td>\n",
       "      <td>4.930903e+09</td>\n",
       "      <td>0.0</td>\n",
       "      <td>0.0</td>\n",
       "      <td>0.0</td>\n",
       "      <td>2008</td>\n",
       "      <td>01</td>\n",
       "    </tr>\n",
       "    <tr>\n",
       "      <th>1</th>\n",
       "      <td>4.818394e+09</td>\n",
       "      <td>0.0</td>\n",
       "      <td>4.818394e+09</td>\n",
       "      <td>0.0</td>\n",
       "      <td>0.0</td>\n",
       "      <td>0.0</td>\n",
       "      <td>2008</td>\n",
       "      <td>02</td>\n",
       "    </tr>\n",
       "    <tr>\n",
       "      <th>2</th>\n",
       "      <td>4.955406e+09</td>\n",
       "      <td>0.0</td>\n",
       "      <td>4.955406e+09</td>\n",
       "      <td>0.0</td>\n",
       "      <td>0.0</td>\n",
       "      <td>0.0</td>\n",
       "      <td>2008</td>\n",
       "      <td>03</td>\n",
       "    </tr>\n",
       "    <tr>\n",
       "      <th>3</th>\n",
       "      <td>5.159162e+09</td>\n",
       "      <td>0.0</td>\n",
       "      <td>5.159162e+09</td>\n",
       "      <td>0.0</td>\n",
       "      <td>0.0</td>\n",
       "      <td>0.0</td>\n",
       "      <td>2008</td>\n",
       "      <td>04</td>\n",
       "    </tr>\n",
       "    <tr>\n",
       "      <th>4</th>\n",
       "      <td>5.584691e+09</td>\n",
       "      <td>0.0</td>\n",
       "      <td>5.584691e+09</td>\n",
       "      <td>0.0</td>\n",
       "      <td>0.0</td>\n",
       "      <td>0.0</td>\n",
       "      <td>2008</td>\n",
       "      <td>05</td>\n",
       "    </tr>\n",
       "  </tbody>\n",
       "</table>\n",
       "</div>"
      ],
      "text/plain": [
       "   pagecount_desktop_views  pagecount_mobile_views  pagecount_all_views  \\\n",
       "0             4.930903e+09                     0.0         4.930903e+09   \n",
       "1             4.818394e+09                     0.0         4.818394e+09   \n",
       "2             4.955406e+09                     0.0         4.955406e+09   \n",
       "3             5.159162e+09                     0.0         5.159162e+09   \n",
       "4             5.584691e+09                     0.0         5.584691e+09   \n",
       "\n",
       "   pageview_desktop_views  pageview_mobile_views  pageview_all_views  year  \\\n",
       "0                     0.0                    0.0                 0.0  2008   \n",
       "1                     0.0                    0.0                 0.0  2008   \n",
       "2                     0.0                    0.0                 0.0  2008   \n",
       "3                     0.0                    0.0                 0.0  2008   \n",
       "4                     0.0                    0.0                 0.0  2008   \n",
       "\n",
       "  month  \n",
       "0    01  \n",
       "1    02  \n",
       "2    03  \n",
       "3    04  \n",
       "4    05  "
      ]
     },
     "execution_count": 45,
     "metadata": {},
     "output_type": "execute_result"
    }
   ],
   "source": [
    "df[\"year\"] = df[\"timestamp\"].apply(lambda date: date[:4])\n",
    "df[\"month\"] = df[\"timestamp\"].apply(lambda date: date[4:6])\n",
    "df.drop(\"timestamp\", axis=1, inplace=True)\n",
    "df.head()"
   ]
  },
  {
   "cell_type": "markdown",
   "metadata": {},
   "source": [
    "Tenth, save processed data to csv file."
   ]
  },
  {
   "cell_type": "code",
   "execution_count": 46,
   "metadata": {},
   "outputs": [],
   "source": [
    "df.to_csv(\"en-wikipedia_traffic_200801-202008.csv\", index=False)"
   ]
  },
  {
   "cell_type": "markdown",
   "metadata": {},
   "source": [
    "## Step 3: Analyze the data"
   ]
  },
  {
   "cell_type": "code",
   "execution_count": 47,
   "metadata": {},
   "outputs": [
    {
     "data": {
      "text/html": [
       "<div>\n",
       "<style scoped>\n",
       "    .dataframe tbody tr th:only-of-type {\n",
       "        vertical-align: middle;\n",
       "    }\n",
       "\n",
       "    .dataframe tbody tr th {\n",
       "        vertical-align: top;\n",
       "    }\n",
       "\n",
       "    .dataframe thead th {\n",
       "        text-align: right;\n",
       "    }\n",
       "</style>\n",
       "<table border=\"1\" class=\"dataframe\">\n",
       "  <thead>\n",
       "    <tr style=\"text-align: right;\">\n",
       "      <th></th>\n",
       "      <th>pagecount_desktop_views</th>\n",
       "      <th>pagecount_mobile_views</th>\n",
       "      <th>pagecount_all_views</th>\n",
       "      <th>pageview_desktop_views</th>\n",
       "      <th>pageview_mobile_views</th>\n",
       "      <th>pageview_all_views</th>\n",
       "      <th>year</th>\n",
       "      <th>month</th>\n",
       "    </tr>\n",
       "  </thead>\n",
       "  <tbody>\n",
       "    <tr>\n",
       "      <th>147</th>\n",
       "      <td>NaN</td>\n",
       "      <td>NaN</td>\n",
       "      <td>NaN</td>\n",
       "      <td>5.332822e+09</td>\n",
       "      <td>1.066564e+10</td>\n",
       "      <td>1.599847e+10</td>\n",
       "      <td>2020</td>\n",
       "      <td>04</td>\n",
       "    </tr>\n",
       "    <tr>\n",
       "      <th>148</th>\n",
       "      <td>NaN</td>\n",
       "      <td>NaN</td>\n",
       "      <td>NaN</td>\n",
       "      <td>5.089055e+09</td>\n",
       "      <td>1.017811e+10</td>\n",
       "      <td>1.526717e+10</td>\n",
       "      <td>2020</td>\n",
       "      <td>05</td>\n",
       "    </tr>\n",
       "    <tr>\n",
       "      <th>149</th>\n",
       "      <td>NaN</td>\n",
       "      <td>NaN</td>\n",
       "      <td>NaN</td>\n",
       "      <td>4.552042e+09</td>\n",
       "      <td>9.104084e+09</td>\n",
       "      <td>1.365613e+10</td>\n",
       "      <td>2020</td>\n",
       "      <td>06</td>\n",
       "    </tr>\n",
       "    <tr>\n",
       "      <th>150</th>\n",
       "      <td>NaN</td>\n",
       "      <td>NaN</td>\n",
       "      <td>NaN</td>\n",
       "      <td>4.675167e+09</td>\n",
       "      <td>9.350333e+09</td>\n",
       "      <td>1.402550e+10</td>\n",
       "      <td>2020</td>\n",
       "      <td>07</td>\n",
       "    </tr>\n",
       "    <tr>\n",
       "      <th>151</th>\n",
       "      <td>NaN</td>\n",
       "      <td>NaN</td>\n",
       "      <td>NaN</td>\n",
       "      <td>4.647875e+09</td>\n",
       "      <td>9.295750e+09</td>\n",
       "      <td>1.394363e+10</td>\n",
       "      <td>2020</td>\n",
       "      <td>08</td>\n",
       "    </tr>\n",
       "  </tbody>\n",
       "</table>\n",
       "</div>"
      ],
      "text/plain": [
       "     pagecount_desktop_views  pagecount_mobile_views  pagecount_all_views  \\\n",
       "147                      NaN                     NaN                  NaN   \n",
       "148                      NaN                     NaN                  NaN   \n",
       "149                      NaN                     NaN                  NaN   \n",
       "150                      NaN                     NaN                  NaN   \n",
       "151                      NaN                     NaN                  NaN   \n",
       "\n",
       "     pageview_desktop_views  pageview_mobile_views  pageview_all_views  year  \\\n",
       "147            5.332822e+09           1.066564e+10        1.599847e+10  2020   \n",
       "148            5.089055e+09           1.017811e+10        1.526717e+10  2020   \n",
       "149            4.552042e+09           9.104084e+09        1.365613e+10  2020   \n",
       "150            4.675167e+09           9.350333e+09        1.402550e+10  2020   \n",
       "151            4.647875e+09           9.295750e+09        1.394363e+10  2020   \n",
       "\n",
       "    month  \n",
       "147    04  \n",
       "148    05  \n",
       "149    06  \n",
       "150    07  \n",
       "151    08  "
      ]
     },
     "execution_count": 47,
     "metadata": {},
     "output_type": "execute_result"
    }
   ],
   "source": [
    "import matplotlib.pyplot as plt \n",
    "from datetime import date\n",
    "import numpy as np\n",
    "df.replace(0, np.nan, inplace=True)\n",
    "date = df.apply(lambda r: date(int(r[\"year\"]), int(r[\"month\"]), 1), axis=1) \n",
    "pc_mobile = df[\"pagecount_mobile_views\"] / 1e6\n",
    "pv_mobile = df[\"pageview_mobile_views\"] / 1e6\n",
    "pc_desktop = df[\"pagecount_desktop_views\"] / 1e6\n",
    "pv_desktop = df[\"pageview_desktop_views\"] / 1e6\n",
    "pv_total = df[\"pageview_all_views\"] / 1e6\n",
    "pc_total = df[\"pagecount_all_views\"] / 1e6\n",
    "df.tail()"
   ]
  },
  {
   "cell_type": "code",
   "execution_count": 36,
   "metadata": {},
   "outputs": [
    {
     "data": {
      "text/html": [
       "<div>\n",
       "<style scoped>\n",
       "    .dataframe tbody tr th:only-of-type {\n",
       "        vertical-align: middle;\n",
       "    }\n",
       "\n",
       "    .dataframe tbody tr th {\n",
       "        vertical-align: top;\n",
       "    }\n",
       "\n",
       "    .dataframe thead th {\n",
       "        text-align: right;\n",
       "    }\n",
       "</style>\n",
       "<table border=\"1\" class=\"dataframe\">\n",
       "  <thead>\n",
       "    <tr style=\"text-align: right;\">\n",
       "      <th></th>\n",
       "      <th>pagecount_desktop_views</th>\n",
       "      <th>pagecount_mobile_views</th>\n",
       "      <th>pagecount_all_views</th>\n",
       "      <th>pageview_desktop_views</th>\n",
       "      <th>pageview_mobile_views</th>\n",
       "      <th>pageview_all_views</th>\n",
       "      <th>year</th>\n",
       "      <th>month</th>\n",
       "    </tr>\n",
       "  </thead>\n",
       "  <tbody>\n",
       "    <tr>\n",
       "      <th>102</th>\n",
       "      <td>5.363966e+09</td>\n",
       "      <td>3.500661e+09</td>\n",
       "      <td>8.864628e+09</td>\n",
       "      <td>3.395175e+09</td>\n",
       "      <td>6.790350e+09</td>\n",
       "      <td>1.018553e+10</td>\n",
       "      <td>2016</td>\n",
       "      <td>07</td>\n",
       "    </tr>\n",
       "  </tbody>\n",
       "</table>\n",
       "</div>"
      ],
      "text/plain": [
       "     pagecount_desktop_views  pagecount_mobile_views  pagecount_all_views  \\\n",
       "102             5.363966e+09            3.500661e+09         8.864628e+09   \n",
       "\n",
       "     pageview_desktop_views  pageview_mobile_views  pageview_all_views  year  \\\n",
       "102            3.395175e+09           6.790350e+09        1.018553e+10  2016   \n",
       "\n",
       "    month  \n",
       "102    07  "
      ]
     },
     "execution_count": 36,
     "metadata": {},
     "output_type": "execute_result"
    }
   ],
   "source": [
    "test = df[df[\"year\"] == \"2016\"]\n",
    "test[test[\"month\"]==\"07\"]"
   ]
  },
  {
   "cell_type": "code",
   "execution_count": 48,
   "metadata": {},
   "outputs": [
    {
     "data": {
      "image/png": "[encoded data removed]",
      "text/plain": [
       "<matplotlib.figure.Figure at 0x26cf551d240>"
      ]
     },
     "metadata": {
      "needs_background": "light"
     },
     "output_type": "display_data"
    }
   ],
   "source": [
    "from matplotlib.dates import YearLocator\n",
    "fig, ax1 = plt.subplots(figsize=(18,6))\n",
    "ax1.plot(date, pc_desktop, label=\"main site\", color=\"green\", ls=\"--\")\n",
    "ax1.plot(date, pv_desktop, label=\"_Hidden label\", color=\"green\", ls=\"-\")\n",
    "ax1.plot(date, pc_mobile, label=\"mobile site\", color=\"blue\", ls=\"--\")\n",
    "ax1.plot(date, pv_mobile, label=\"_Hidden label\", color=\"blue\", ls=\"-\")\n",
    "ax1.plot(date, pc_total, label=\"total\", color=\"black\", ls=\"--\")\n",
    "ax1.plot(date, pv_total, label=\"_Hidden label\", color=\"black\", ls=\"-\")\n",
    "ax1.xaxis.set_major_locator(YearLocator())\n",
    "plt.xlabel(\"Date\")\n",
    "plt.ylabel(\"View Count\")\n",
    "plt.ylim(ymin=0)\n",
    "plt.title(\"Page Views on English Wikipedia (x 1,000,000)\")\n",
    "plt.grid(True)\n",
    "plt.legend(loc=\"upper left\")\n",
    "plt.show()"
   ]
  },
  {
   "cell_type": "code",
   "execution_count": null,
   "metadata": {},
   "outputs": [],
   "source": []
  }
 ],
 "metadata": {
  "kernelspec": {
   "display_name": "Python 3.6.3 64-bit",
   "language": "python",
   "name": "python36364bitf7b0a21c4aca4c308ea561c4f3e5ac90"
  },
  "language_info": {
   "codemirror_mode": {
    "name": "ipython",
    "version": 3
   },
   "file_extension": ".py",
   "mimetype": "text/x-python",
   "name": "python",
   "nbconvert_exporter": "python",
   "pygments_lexer": "ipython3",
   "version": "3.6.3rc1"
  }
 },
 "nbformat": 4,
 "nbformat_minor": 2
}
