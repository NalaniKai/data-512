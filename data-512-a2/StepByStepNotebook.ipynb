{
 "metadata": {
  "language_info": {
   "codemirror_mode": {
    "name": "ipython",
    "version": 3
   },
   "file_extension": ".py",
   "mimetype": "text/x-python",
   "name": "python",
   "nbconvert_exporter": "python",
   "pygments_lexer": "ipython3",
   "version": "3.6.3-candidate"
  },
  "orig_nbformat": 2,
  "kernelspec": {
   "name": "Python 3.6.3 64-bit",
   "display_name": "Python 3.6.3 64-bit",
   "metadata": {
    "interpreter": {
     "hash": "7e3d55cf8432ae48893eaff3a6da4eae6089593d47ba96468060c7215937103c"
    }
   }
  }
 },
 "nbformat": 4,
 "nbformat_minor": 2,
 "cells": [
  {
   "cell_type": "code",
   "execution_count": 1,
   "metadata": {},
   "outputs": [],
   "source": []
  },
  {
   "source": [
    "## Step 0: Gathering the data\n",
    "Get the personal attacks and toxicity datasets for the annotated comments and the annotations. Additionally, get the demographics data for the persoanl attack data."
   ],
   "cell_type": "markdown",
   "metadata": {}
  },
  {
   "source": [
    "Define the urls for each dataset and use the urlretrieve function from the urllib library to download the data."
   ],
   "cell_type": "markdown",
   "metadata": {}
  },
  {
   "cell_type": "code",
   "execution_count": 23,
   "metadata": {},
   "outputs": [
    {
     "output_type": "execute_result",
     "data": {
      "text/plain": "(&#39;toxicity_annotations.tsv&#39;, &lt;http.client.HTTPMessage at 0x26534ab5f60&gt;)"
     },
     "metadata": {},
     "execution_count": 23
    }
   ],
   "source": [
    "from urllib.request import urlretrieve\n",
    "\n",
    "#data urls\n",
    "ATTACK_ANNOTATED_COMMENTS_URL = 'https://ndownloader.figshare.com/files/7554634' \n",
    "ATTACK_ANNOTATIONS_URL = 'https://ndownloader.figshare.com/files/7554637'\n",
    "ATTACK_DEMOGRAPHICS_URL = 'https://ndownloader.figshare.com/files/7640752'\n",
    "TOXICITY_ANNOTATED_COMMENTS_URL = 'https://ndownloader.figshare.com/files/7394542' \n",
    "TOXICITY_ANNOTATIONS_URL = 'https://ndownloader.figshare.com/files/7394539'\n",
    "\n",
    "#download files given the url and file name\n",
    "urlretrieve(ATTACK_ANNOTATED_COMMENTS_URL, 'attack_annotated_comments.tsv')\n",
    "urlretrieve(ATTACK_ANNOTATIONS_URL, 'attack_annotations.tsv')   \n",
    "urlretrieve(ATTACK_DEMOGRAPHICS_URL, 'attack_worker_demographics.tsv')   \n",
    "urlretrieve(TOXICITY_ANNOTATED_COMMENTS_URL, 'toxicity_annotated_comments.tsv')\n",
    "urlretrieve(TOXICITY_ANNOTATIONS_URL, 'toxicity_annotations.tsv') "
   ]
  },
  {
   "source": [
    "Read in the downloaded data files into dataframes for analysis. View the first 5 lines of the toxicity annotations dataframe."
   ],
   "cell_type": "markdown",
   "metadata": {}
  },
  {
   "cell_type": "code",
   "execution_count": 45,
   "metadata": {
    "tags": []
   },
   "outputs": [
    {
     "output_type": "execute_result",
     "data": {
      "text/plain": "   rev_id  worker_id  toxicity  toxicity_score\n0  2232.0        723         0             0.0\n1  2232.0       4000         0             0.0\n2  2232.0       3989         0             1.0\n3  2232.0       3341         0             0.0\n4  2232.0       1574         0             1.0",
      "text/html": "<div>\n<style scoped>\n    .dataframe tbody tr th:only-of-type {\n        vertical-align: middle;\n    }\n\n    .dataframe tbody tr th {\n        vertical-align: top;\n    }\n\n    .dataframe thead th {\n        text-align: right;\n    }\n</style>\n<table border=\"1\" class=\"dataframe\">\n  <thead>\n    <tr style=\"text-align: right;\">\n      <th></th>\n      <th>rev_id</th>\n      <th>worker_id</th>\n      <th>toxicity</th>\n      <th>toxicity_score</th>\n    </tr>\n  </thead>\n  <tbody>\n    <tr>\n      <th>0</th>\n      <td>2232.0</td>\n      <td>723</td>\n      <td>0</td>\n      <td>0.0</td>\n    </tr>\n    <tr>\n      <th>1</th>\n      <td>2232.0</td>\n      <td>4000</td>\n      <td>0</td>\n      <td>0.0</td>\n    </tr>\n    <tr>\n      <th>2</th>\n      <td>2232.0</td>\n      <td>3989</td>\n      <td>0</td>\n      <td>1.0</td>\n    </tr>\n    <tr>\n      <th>3</th>\n      <td>2232.0</td>\n      <td>3341</td>\n      <td>0</td>\n      <td>0.0</td>\n    </tr>\n    <tr>\n      <th>4</th>\n      <td>2232.0</td>\n      <td>1574</td>\n      <td>0</td>\n      <td>1.0</td>\n    </tr>\n  </tbody>\n</table>\n</div>"
     },
     "metadata": {},
     "execution_count": 45
    }
   ],
   "source": [
    "import pandas as pd\n",
    "\n",
    "attack_comments = pd.read_csv('attack_annotated_comments.tsv', sep = '\\t')\n",
    "attack_annotations = pd.read_csv('attack_annotations.tsv',  sep = '\\t')\n",
    "attack_demographics = pd.read_csv('attack_worker_demographics.tsv',  sep = '\\t')\n",
    "toxicity_comments = pd.read_csv('toxicity_annotated_comments.tsv', sep = '\\t')\n",
    "toxicity_annotations = pd.read_csv('toxicity_annotations.tsv',  sep = '\\t')\n",
    "\n",
    "toxicity_annotations.head()"
   ]
  },
  {
   "source": [
    "## Step 1: Select and perform analysis\n",
    "There are two analyses performed in this section.\n",
    "\n",
    "The first analyzes the toxicity dataset on its own. There is a demographic dataset provided which enables the ability to see how different demographics could potentially bias the data. The research questions for this analysis are: \n",
    "- Are workers who share demographics more likely to label the data more similarly than workers who are in different demographic groups?\n",
    "- If so, how consistent is the labelling across different demographic groups?\n",
    "\n",
    "The second is a comparative analysis across the toxicity dataset and the personal attacks dataset. Some types of hostile comments may be more agreeable or disagreeable than others which could impact the reliability of the models trained on these datasets. The research question is: \n",
    "- Is there a significant difference between agreement in how workers label comments as personal attacks vs toxic comments? "
   ],
   "cell_type": "markdown",
   "metadata": {
    "tags": []
   }
  },
  {
   "source": [
    "### Analysis 1: Worker demographics impacting labelling\n",
    "\n",
    "Are labelers more likely to agree on how to label comments for personal attacks if they share demographics? \n",
    "\n",
    "The demographics included in the personal attack worker demographics data is gender, whether english is the worker's first language, their age group, and education. "
   ],
   "cell_type": "markdown",
   "metadata": {}
  },
  {
   "source": [
    "See the different demographics below and the percent of the dataset they make up:"
   ],
   "cell_type": "markdown",
   "metadata": {}
  },
  {
   "cell_type": "code",
   "execution_count": 40,
   "metadata": {
    "tags": []
   },
   "outputs": [
    {
     "output_type": "stream",
     "name": "stdout",
     "text": "Gender:\n male      0.615982\nfemale    0.383562\nother     0.000457\nName: gender, dtype: float64\n\nEnglish as first language:\n 0    0.816438\n1    0.183562\nName: english_first_language, dtype: float64\n\nAge group:\n 18-30       0.486775\n30-45       0.385615\n45-60       0.101160\nUnder 18    0.017169\nOver 60     0.009281\nName: age_group, dtype: float64\n\nEducation:\n bachelors       0.393607\nhs              0.288128\nmasters         0.175799\nprofessional    0.110959\nsome            0.021918\ndoctorate       0.009132\nnone            0.000457\nName: education, dtype: float64\n"
    }
   ],
   "source": [
    "print(\"Gender:\\n\", attack_demographics[\"gender\"].value_counts(normalize=True))\n",
    "print(\"\\nEnglish as first language:\\n\", attack_demographics[\"english_first_language\"].value_counts(normalize=True))\n",
    "print(\"\\nAge group:\\n\", attack_demographics[\"age_group\"].value_counts(normalize=True))\n",
    "print(\"\\nEducation:\\n\", attack_demographics[\"education\"].value_counts(normalize=True))"
   ]
  },
  {
   "source": [
    "Join the demographics dataset for attacks with the annotations dataset to get the annotations per worker. "
   ],
   "cell_type": "markdown",
   "metadata": {}
  },
  {
   "cell_type": "code",
   "execution_count": 41,
   "metadata": {
    "tags": []
   },
   "outputs": [
    {
     "output_type": "stream",
     "name": "stdout",
     "text": "[&#39;rev_id&#39; &#39;worker_id&#39; &#39;quoting_attack&#39; &#39;recipient_attack&#39;\n &#39;third_party_attack&#39; &#39;other_attack&#39; &#39;attack&#39; &#39;gender&#39;\n &#39;english_first_language&#39; &#39;age_group&#39; &#39;education&#39;]\n"
    },
    {
     "output_type": "execute_result",
     "data": {
      "text/plain": "    rev_id  worker_id  quoting_attack  recipient_attack  third_party_attack  \\\n0    37675       1362             0.0               0.0                 0.0   \n1  3202092       1362             0.0               0.0                 0.0   \n2  4745553       1362             0.0               0.0                 0.0   \n3  4855563       1362             0.0               0.0                 0.0   \n4  8350378       1362             0.0               0.0                 0.0   \n\n   other_attack  attack gender  english_first_language age_group education  \n0           0.0     0.0   male                       0     18-30   masters  \n1           0.0     0.0   male                       0     18-30   masters  \n2           0.0     0.0   male                       0     18-30   masters  \n3           0.0     0.0   male                       0     18-30   masters  \n4           0.0     0.0   male                       0     18-30   masters  ",
      "text/html": "<div>\n<style scoped>\n    .dataframe tbody tr th:only-of-type {\n        vertical-align: middle;\n    }\n\n    .dataframe tbody tr th {\n        vertical-align: top;\n    }\n\n    .dataframe thead th {\n        text-align: right;\n    }\n</style>\n<table border=\"1\" class=\"dataframe\">\n  <thead>\n    <tr style=\"text-align: right;\">\n      <th></th>\n      <th>rev_id</th>\n      <th>worker_id</th>\n      <th>quoting_attack</th>\n      <th>recipient_attack</th>\n      <th>third_party_attack</th>\n      <th>other_attack</th>\n      <th>attack</th>\n      <th>gender</th>\n      <th>english_first_language</th>\n      <th>age_group</th>\n      <th>education</th>\n    </tr>\n  </thead>\n  <tbody>\n    <tr>\n      <th>0</th>\n      <td>37675</td>\n      <td>1362</td>\n      <td>0.0</td>\n      <td>0.0</td>\n      <td>0.0</td>\n      <td>0.0</td>\n      <td>0.0</td>\n      <td>male</td>\n      <td>0</td>\n      <td>18-30</td>\n      <td>masters</td>\n    </tr>\n    <tr>\n      <th>1</th>\n      <td>3202092</td>\n      <td>1362</td>\n      <td>0.0</td>\n      <td>0.0</td>\n      <td>0.0</td>\n      <td>0.0</td>\n      <td>0.0</td>\n      <td>male</td>\n      <td>0</td>\n      <td>18-30</td>\n      <td>masters</td>\n    </tr>\n    <tr>\n      <th>2</th>\n      <td>4745553</td>\n      <td>1362</td>\n      <td>0.0</td>\n      <td>0.0</td>\n      <td>0.0</td>\n      <td>0.0</td>\n      <td>0.0</td>\n      <td>male</td>\n      <td>0</td>\n      <td>18-30</td>\n      <td>masters</td>\n    </tr>\n    <tr>\n      <th>3</th>\n      <td>4855563</td>\n      <td>1362</td>\n      <td>0.0</td>\n      <td>0.0</td>\n      <td>0.0</td>\n      <td>0.0</td>\n      <td>0.0</td>\n      <td>male</td>\n      <td>0</td>\n      <td>18-30</td>\n      <td>masters</td>\n    </tr>\n    <tr>\n      <th>4</th>\n      <td>8350378</td>\n      <td>1362</td>\n      <td>0.0</td>\n      <td>0.0</td>\n      <td>0.0</td>\n      <td>0.0</td>\n      <td>0.0</td>\n      <td>male</td>\n      <td>0</td>\n      <td>18-30</td>\n      <td>masters</td>\n    </tr>\n  </tbody>\n</table>\n</div>"
     },
     "metadata": {},
     "execution_count": 41
    }
   ],
   "source": [
    "attack_demo_ann = pd.merge(attack_annotations, attack_demographics, \n",
    "how='inner', on='worker_id')\n",
    "attack_demo_ann.head()"
   ]
  },
  {
   "source": [
    "Get the probabilities for all the demographics that make up more than 3% of the data:\n",
    "- P(Attack=True | Female)\n",
    "- P(Attack=True | Male)\n",
    "- P(Attack=True | English is first language)\n",
    "- P(Attack=True | English is not first language)\n",
    "- P(Attack=True | Age group is 18 - 30)\n",
    "- P(Attack=True | Age group is 30 - 45)\n",
    "- P(Attack=True | Age group is 45 - 60)\n",
    "- P(Attack=True | Education is high school)\n",
    "- P(Attack=True | Education is bachelors)\n",
    "- P(Attack=True | Education is masters)\n",
    "- P(Attack=True | Education is professional)"
   ],
   "cell_type": "markdown",
   "metadata": {}
  },
  {
   "source": [
    "As you can see below, labelers who identified as female were ~1.5% more likely to label a comment as a personal attack than labelers who identified as male. This is not much of a difference. "
   ],
   "cell_type": "markdown",
   "metadata": {}
  },
  {
   "cell_type": "code",
   "execution_count": 239,
   "metadata": {
    "tags": []
   },
   "outputs": [
    {
     "output_type": "stream",
     "name": "stdout",
     "text": "P(Attack=True | Female):\n 0.0    0.826402\n1.0    0.173598\nName: attack, dtype: float64\n\nP(Attack=True | Male):\n 0.0    0.841309\n1.0    0.158691\nName: attack, dtype: float64\n\nP(Attack=True | Other):\n 0.0    0.554217\n1.0    0.445783\nName: attack, dtype: float64\n"
    }
   ],
   "source": [
    "print(\"P(Attack=True | Female):\\n\", attack_demo_ann[attack_demo_ann[\"gender\"] == \"female\"][\"attack\"].value_counts(normalize=True))\n",
    "print(\"\\nP(Attack=True | Male):\\n\", attack_demo_ann[attack_demo_ann[\"gender\"] == \"male\"][\"attack\"].value_counts(normalize=True))"
   ]
  },
  {
   "source": [
    "As you can see below, labelers who said they spoke English as their first language were ~2% more likely to label comments as a personal attack than labelers who said English was not their first language. "
   ],
   "cell_type": "markdown",
   "metadata": {}
  },
  {
   "cell_type": "code",
   "execution_count": 55,
   "metadata": {
    "tags": []
   },
   "outputs": [
    {
     "output_type": "stream",
     "name": "stdout",
     "text": "P(Attack=True | English is first language):\n 0.0    0.818531\n1.0    0.181469\nName: attack, dtype: float64\n\nP(Attack=True | English is not first language):\n 0.0    0.838578\n1.0    0.161422\nName: attack, dtype: float64\n"
    }
   ],
   "source": [
    "print(\"P(Attack=True | English is first language):\\n\", attack_demo_ann[attack_demo_ann[\"english_first_language\"] == 1][\"attack\"].value_counts(normalize=True))\n",
    "print(\"\\nP(Attack=True | English is not first language):\\n\", attack_demo_ann[attack_demo_ann[\"english_first_language\"] == 0][\"attack\"].value_counts(normalize=True))"
   ]
  },
  {
   "source": [
    "As you can see below, age has a larger effect on whether a labeler marks a comment as a personal attack or not. The older age group of 45-60 was ~5.7% more likely to label comments as an attack compared to labelers in the 18-30 age group and ~3.8% more likely than the 30-45 age group. "
   ],
   "cell_type": "code",
   "metadata": {},
   "execution_count": null,
   "outputs": []
  },
  {
   "cell_type": "code",
   "execution_count": 57,
   "metadata": {
    "tags": []
   },
   "outputs": [
    {
     "output_type": "stream",
     "name": "stdout",
     "text": "P(Attack=True | Age group is 18 - 30):\n 0.0    0.848967\n1.0    0.151033\nName: attack, dtype: float64\n\nP(Attack=True | Age group is 30 - 45):\n 0.0    0.829853\n1.0    0.170147\nName: attack, dtype: float64\n\nP(Attack=True | Age group is 45 - 60):\n 0.0    0.791523\n1.0    0.208477\nName: attack, dtype: float64\n"
    }
   ],
   "source": [
    "print(\"P(Attack=True | Age group is 18 - 30):\\n\", attack_demo_ann[attack_demo_ann[\"age_group\"] == \"18-30\"][\"attack\"].value_counts(normalize=True))\n",
    "print(\"\\nP(Attack=True | Age group is 30 - 45):\\n\", attack_demo_ann[attack_demo_ann[\"age_group\"] == \"30-45\"][\"attack\"].value_counts(normalize=True))\n",
    "print(\"\\nP(Attack=True | Age group is 45 - 60):\\n\", attack_demo_ann[attack_demo_ann[\"age_group\"] == \"45-60\"][\"attack\"].value_counts(normalize=True))"
   ]
  },
  {
   "source": [
    "As you can see below, education has the smallest impact on whether a labeler marked a comment as an attack. Each education group was within half a percentage point of each other. "
   ],
   "cell_type": "markdown",
   "metadata": {}
  },
  {
   "cell_type": "code",
   "execution_count": 58,
   "metadata": {
    "tags": []
   },
   "outputs": [
    {
     "output_type": "stream",
     "name": "stdout",
     "text": "P(Attack=True | Education is high school):\n 0.0    0.838819\n1.0    0.161181\nName: attack, dtype: float64\n\nP(Attack=True | Education is bachelors):\n 0.0    0.834606\n1.0    0.165394\nName: attack, dtype: float64\n\nP(Attack=True | Education is masters):\n 0.0    0.834386\n1.0    0.165614\nName: attack, dtype: float64\n\nP(Attack=True | Education is professional):\n 0.0    0.832173\n1.0    0.167827\nName: attack, dtype: float64\n"
    }
   ],
   "source": [
    "print(\"P(Attack=True | Education is high school):\\n\", attack_demo_ann[attack_demo_ann[\"education\"] == \"hs\"][\"attack\"].value_counts(normalize=True))\n",
    "print(\"\\nP(Attack=True | Education is bachelors):\\n\", attack_demo_ann[attack_demo_ann[\"education\"] == \"bachelors\"][\"attack\"].value_counts(normalize=True))\n",
    "print(\"\\nP(Attack=True | Education is masters):\\n\", attack_demo_ann[attack_demo_ann[\"education\"] == \"masters\"][\"attack\"].value_counts(normalize=True))\n",
    "print(\"\\nP(Attack=True | Education is professional):\\n\", attack_demo_ann[attack_demo_ann[\"education\"] == \"professional\"][\"attack\"].value_counts(normalize=True))"
   ]
  },
  {
   "source": [
    "After looking at the probabilities it appears that age is the demographic with the largest influence in a labelers decision with a difference of ~5.7% between the 18-30 and 45-60 age groups followed by english as a first language, gender, and then education last with less than half a percent of variation between education levels.\n",
    "\n",
    "Next, we will expanding on the age group and English as a first language demographic data by training a linear regression model and looking at the coefficients. \n",
    "\n",
    "The cell below sets the y labels as whether or not a comment was considered an attack in addition to creating a dataframe of predictor features by creating a binary feature for each age group and including the english as a first language feature."
   ],
   "cell_type": "markdown",
   "metadata": {}
  },
  {
   "cell_type": "code",
   "execution_count": 223,
   "metadata": {},
   "outputs": [
    {
     "output_type": "execute_result",
     "data": {
      "text/plain": "   Age_Under18  Age_18-30  Age_30-45  Age_45-60  Age_Over60  GenderOther  \\\n0            0          1          0          0           0            0   \n1            0          1          0          0           0            0   \n2            0          1          0          0           0            0   \n3            0          1          0          0           0            0   \n4            0          1          0          0           0            0   \n\n   GenderFemale  GenderMale  EnglishFirst  Education_HS  Education_Bachelors  \\\n0             0           1             0             0                    0   \n1             0           1             0             0                    0   \n2             0           1             0             0                    0   \n3             0           1             0             0                    0   \n4             0           1             0             0                    0   \n\n   Education_Masters  Education_Professional  Education_Some  \\\n0                  1                       0               0   \n1                  1                       0               0   \n2                  1                       0               0   \n3                  1                       0               0   \n4                  1                       0               0   \n\n   Education_Doctorate  Education_None  \n0                    0               0  \n1                    0               0  \n2                    0               0  \n3                    0               0  \n4                    0               0  ",
      "text/html": "<div>\n<style scoped>\n    .dataframe tbody tr th:only-of-type {\n        vertical-align: middle;\n    }\n\n    .dataframe tbody tr th {\n        vertical-align: top;\n    }\n\n    .dataframe thead th {\n        text-align: right;\n    }\n</style>\n<table border=\"1\" class=\"dataframe\">\n  <thead>\n    <tr style=\"text-align: right;\">\n      <th></th>\n      <th>Age_Under18</th>\n      <th>Age_18-30</th>\n      <th>Age_30-45</th>\n      <th>Age_45-60</th>\n      <th>Age_Over60</th>\n      <th>GenderOther</th>\n      <th>GenderFemale</th>\n      <th>GenderMale</th>\n      <th>EnglishFirst</th>\n      <th>Education_HS</th>\n      <th>Education_Bachelors</th>\n      <th>Education_Masters</th>\n      <th>Education_Professional</th>\n      <th>Education_Some</th>\n      <th>Education_Doctorate</th>\n      <th>Education_None</th>\n    </tr>\n  </thead>\n  <tbody>\n    <tr>\n      <th>0</th>\n      <td>0</td>\n      <td>1</td>\n      <td>0</td>\n      <td>0</td>\n      <td>0</td>\n      <td>0</td>\n      <td>0</td>\n      <td>1</td>\n      <td>0</td>\n      <td>0</td>\n      <td>0</td>\n      <td>1</td>\n      <td>0</td>\n      <td>0</td>\n      <td>0</td>\n      <td>0</td>\n    </tr>\n    <tr>\n      <th>1</th>\n      <td>0</td>\n      <td>1</td>\n      <td>0</td>\n      <td>0</td>\n      <td>0</td>\n      <td>0</td>\n      <td>0</td>\n      <td>1</td>\n      <td>0</td>\n      <td>0</td>\n      <td>0</td>\n      <td>1</td>\n      <td>0</td>\n      <td>0</td>\n      <td>0</td>\n      <td>0</td>\n    </tr>\n    <tr>\n      <th>2</th>\n      <td>0</td>\n      <td>1</td>\n      <td>0</td>\n      <td>0</td>\n      <td>0</td>\n      <td>0</td>\n      <td>0</td>\n      <td>1</td>\n      <td>0</td>\n      <td>0</td>\n      <td>0</td>\n      <td>1</td>\n      <td>0</td>\n      <td>0</td>\n      <td>0</td>\n      <td>0</td>\n    </tr>\n    <tr>\n      <th>3</th>\n      <td>0</td>\n      <td>1</td>\n      <td>0</td>\n      <td>0</td>\n      <td>0</td>\n      <td>0</td>\n      <td>0</td>\n      <td>1</td>\n      <td>0</td>\n      <td>0</td>\n      <td>0</td>\n      <td>1</td>\n      <td>0</td>\n      <td>0</td>\n      <td>0</td>\n      <td>0</td>\n    </tr>\n    <tr>\n      <th>4</th>\n      <td>0</td>\n      <td>1</td>\n      <td>0</td>\n      <td>0</td>\n      <td>0</td>\n      <td>0</td>\n      <td>0</td>\n      <td>1</td>\n      <td>0</td>\n      <td>0</td>\n      <td>0</td>\n      <td>1</td>\n      <td>0</td>\n      <td>0</td>\n      <td>0</td>\n      <td>0</td>\n    </tr>\n  </tbody>\n</table>\n</div>"
     },
     "metadata": {},
     "execution_count": 223
    }
   ],
   "source": [
    "y_train = attack_demo_ann[\"attack\"]\n",
    "\n",
    "X_train = pd.DataFrame(columns=[])\n",
    "\n",
    "X_train[\"Age_Under18\"] = attack_demo_ann[\"age_group\"].apply(lambda g: 1 if g == \"Under 18\" else 0)\n",
    "X_train[\"Age_18-30\"] = attack_demo_ann[\"age_group\"].apply(lambda g: 1 if g == \"18-30\" else 0)\n",
    "X_train[\"Age_30-45\"] = attack_demo_ann[\"age_group\"].apply(lambda g: 1 if g == \"30-45\" else 0)\n",
    "X_train[\"Age_45-60\"] = attack_demo_ann[\"age_group\"].apply(lambda g: 1 if g == \"45-60\" else 0)\n",
    "X_train[\"Age_Over60\"] = attack_demo_ann[\"age_group\"].apply(lambda g: 1 if g == \"Over 60\" else 0)\n",
    "\n",
    "X_train[\"GenderOther\"] = attack_demo_ann[\"gender\"].apply(lambda g: 1 if g == \"other\" else 0)\n",
    "X_train[\"GenderFemale\"] = attack_demo_ann[\"gender\"].apply(lambda g: 1 if g == \"female\" else 0)\n",
    "X_train[\"GenderMale\"] = attack_demo_ann[\"gender\"].apply(lambda g: 1 if g == \"male\" else 0)\n",
    "\n",
    "X_train[\"EnglishFirst\"] = attack_demo_ann[\"english_first_language\"]\n",
    "\n",
    "X_train[\"Education_HS\"] = attack_demo_ann[\"education\"].apply(lambda g: 1 if g == \"hs\" else 0)\n",
    "X_train[\"Education_Bachelors\"] = attack_demo_ann[\"education\"].apply(lambda g: 1 if g == \"bachelors\" else 0)\n",
    "X_train[\"Education_Masters\"] = attack_demo_ann[\"education\"].apply(lambda g: 1 if g == \"masters\" else 0)\n",
    "X_train[\"Education_Professional\"] = attack_demo_ann[\"education\"].apply(lambda g: 1 if g == \"professional\" else 0)\n",
    "X_train[\"Education_Some\"] = attack_demo_ann[\"education\"].apply(lambda g: 1 if g == \"some\" else 0)\n",
    "X_train[\"Education_Doctorate\"] = attack_demo_ann[\"education\"].apply(lambda g: 1 if g == \"doctorate\" else 0)\n",
    "X_train[\"Education_None\"] = attack_demo_ann[\"education\"].apply(lambda g: 1 if g == \"none\" else 0)\n",
    "\n",
    "X_train.head()"
   ]
  },
  {
   "source": [
    "Next up is creating a logistic regression model and fitting it to the data. Below we can see the features and their coefficients from the model."
   ],
   "cell_type": "markdown",
   "metadata": {}
  },
  {
   "cell_type": "code",
   "execution_count": 214,
   "metadata": {
    "tags": []
   },
   "outputs": [
    {
     "output_type": "stream",
     "name": "stdout",
     "text": "Optimization terminated successfully.\n         Current function value: 0.444978\n         Iterations 7\n"
    },
    {
     "output_type": "execute_result",
     "data": {
      "text/plain": "&lt;class &#39;statsmodels.iolib.summary.Summary&#39;&gt;\n&quot;&quot;&quot;\n                           Logit Regression Results                           \n==============================================================================\nDep. Variable:                 attack   No. Observations:               855514\nModel:                          Logit   Df Residuals:                   855499\nMethod:                           MLE   Df Model:                           14\nDate:                Sun, 11 Oct 2020   Pseudo R-squ.:                0.003154\nTime:                        20:54:14   Log-Likelihood:            -3.8068e+05\nconverged:                       True   LL-Null:                   -3.8189e+05\nCovariance Type:            nonrobust   LLR p-value:                     0.000\n==========================================================================================\n                             coef    std err          z      P&gt;|z|      [0.025      0.975]\n------------------------------------------------------------------------------------------\nAge_Under18               -0.2978      0.042     -7.174      0.000      -0.379      -0.216\nAge_18-30                  0.0069      0.026      0.262      0.793      -0.045       0.059\nAge_30-45                  0.1469      0.026      5.579      0.000       0.095       0.199\nAge_45-60                  0.3836      0.027     13.991      0.000       0.330       0.437\nAge_Over60                 0.2748      0.039      7.090      0.000       0.199       0.351\nGenderOther                0.0248        nan        nan        nan         nan         nan\nGenderFemale              -1.4276        nan        nan        nan         nan         nan\nGenderMale                -1.5177        nan        nan        nan         nan         nan\nEnglishFirst               0.1005      0.008     11.924      0.000       0.084       0.117\nEducation_HS              -0.2793        nan        nan        nan         nan         nan\nEducation_Bachelors       -0.2494        nan        nan        nan         nan         nan\nEducation_Masters         -0.2611        nan        nan        nan         nan         nan\nEducation_Professional    -0.2282        nan        nan        nan         nan         nan\nEducation_Some            -0.4118        nan        nan        nan         nan         nan\nEducation_Doctorate       -0.3046        nan        nan        nan         nan         nan\nEducation_None            -1.1861        nan        nan        nan         nan         nan\n==========================================================================================\n&quot;&quot;&quot;",
      "text/html": "<table class=\"simpletable\">\n<caption>Logit Regression Results</caption>\n<tr>\n  <th>Dep. Variable:</th>        <td>attack</td>      <th>  No. Observations:  </th>   <td>855514</td>   \n</tr>\n<tr>\n  <th>Model:</th>                 <td>Logit</td>      <th>  Df Residuals:      </th>   <td>855499</td>   \n</tr>\n<tr>\n  <th>Method:</th>                 <td>MLE</td>       <th>  Df Model:          </th>   <td>    14</td>   \n</tr>\n<tr>\n  <th>Date:</th>            <td>Sun, 11 Oct 2020</td> <th>  Pseudo R-squ.:     </th>  <td>0.003154</td>  \n</tr>\n<tr>\n  <th>Time:</th>                <td>20:54:14</td>     <th>  Log-Likelihood:    </th> <td>-3.8068e+05</td>\n</tr>\n<tr>\n  <th>converged:</th>             <td>True</td>       <th>  LL-Null:           </th> <td>-3.8189e+05</td>\n</tr>\n<tr>\n  <th>Covariance Type:</th>     <td>nonrobust</td>    <th>  LLR p-value:       </th>   <td> 0.000</td>   \n</tr>\n</table>\n<table class=\"simpletable\">\n<tr>\n             <td></td>               <th>coef</th>     <th>std err</th>      <th>z</th>      <th>P>|z|</th>  <th>[0.025</th>    <th>0.975]</th>  \n</tr>\n<tr>\n  <th>Age_Under18</th>            <td>   -0.2978</td> <td>    0.042</td> <td>   -7.174</td> <td> 0.000</td> <td>   -0.379</td> <td>   -0.216</td>\n</tr>\n<tr>\n  <th>Age_18-30</th>              <td>    0.0069</td> <td>    0.026</td> <td>    0.262</td> <td> 0.793</td> <td>   -0.045</td> <td>    0.059</td>\n</tr>\n<tr>\n  <th>Age_30-45</th>              <td>    0.1469</td> <td>    0.026</td> <td>    5.579</td> <td> 0.000</td> <td>    0.095</td> <td>    0.199</td>\n</tr>\n<tr>\n  <th>Age_45-60</th>              <td>    0.3836</td> <td>    0.027</td> <td>   13.991</td> <td> 0.000</td> <td>    0.330</td> <td>    0.437</td>\n</tr>\n<tr>\n  <th>Age_Over60</th>             <td>    0.2748</td> <td>    0.039</td> <td>    7.090</td> <td> 0.000</td> <td>    0.199</td> <td>    0.351</td>\n</tr>\n<tr>\n  <th>GenderOther</th>            <td>    0.0248</td> <td>      nan</td> <td>      nan</td> <td>   nan</td> <td>      nan</td> <td>      nan</td>\n</tr>\n<tr>\n  <th>GenderFemale</th>           <td>   -1.4276</td> <td>      nan</td> <td>      nan</td> <td>   nan</td> <td>      nan</td> <td>      nan</td>\n</tr>\n<tr>\n  <th>GenderMale</th>             <td>   -1.5177</td> <td>      nan</td> <td>      nan</td> <td>   nan</td> <td>      nan</td> <td>      nan</td>\n</tr>\n<tr>\n  <th>EnglishFirst</th>           <td>    0.1005</td> <td>    0.008</td> <td>   11.924</td> <td> 0.000</td> <td>    0.084</td> <td>    0.117</td>\n</tr>\n<tr>\n  <th>Education_HS</th>           <td>   -0.2793</td> <td>      nan</td> <td>      nan</td> <td>   nan</td> <td>      nan</td> <td>      nan</td>\n</tr>\n<tr>\n  <th>Education_Bachelors</th>    <td>   -0.2494</td> <td>      nan</td> <td>      nan</td> <td>   nan</td> <td>      nan</td> <td>      nan</td>\n</tr>\n<tr>\n  <th>Education_Masters</th>      <td>   -0.2611</td> <td>      nan</td> <td>      nan</td> <td>   nan</td> <td>      nan</td> <td>      nan</td>\n</tr>\n<tr>\n  <th>Education_Professional</th> <td>   -0.2282</td> <td>      nan</td> <td>      nan</td> <td>   nan</td> <td>      nan</td> <td>      nan</td>\n</tr>\n<tr>\n  <th>Education_Some</th>         <td>   -0.4118</td> <td>      nan</td> <td>      nan</td> <td>   nan</td> <td>      nan</td> <td>      nan</td>\n</tr>\n<tr>\n  <th>Education_Doctorate</th>    <td>   -0.3046</td> <td>      nan</td> <td>      nan</td> <td>   nan</td> <td>      nan</td> <td>      nan</td>\n</tr>\n<tr>\n  <th>Education_None</th>         <td>   -1.1861</td> <td>      nan</td> <td>      nan</td> <td>   nan</td> <td>      nan</td> <td>      nan</td>\n</tr>\n</table>"
     },
     "metadata": {},
     "execution_count": 214
    }
   ],
   "source": [
    "import statsmodels.api as sm\n",
    "\n",
    "model = sm.Logit(y_train, X_train)\n",
    "result = model.fit()\n",
    "result.summary()"
   ]
  },
  {
   "source": [
    "Calculating the odds from the log odds (coefficients), we see the features with odds > 1 increase the odds of a comment being labeled as an attack."
   ],
   "cell_type": "markdown",
   "metadata": {}
  },
  {
   "cell_type": "code",
   "execution_count": 219,
   "metadata": {},
   "outputs": [
    {
     "output_type": "execute_result",
     "data": {
      "text/plain": "Age_Under18               0.742461\nAge_18-30                 1.006927\nAge_30-45                 1.158234\nAge_45-60                 1.467557\nAge_Over60                1.316219\nGenderOther               1.025093\nGenderFemale              0.239885\nGenderMale                0.219211\nEnglishFirst              1.105735\nEducation_HS              0.756290\nEducation_Bachelors       0.779260\nEducation_Masters         0.770216\nEducation_Professional    0.795967\nEducation_Some            0.662451\nEducation_Doctorate       0.737382\nEducation_None            0.305423\ndtype: float64"
     },
     "metadata": {},
     "execution_count": 219
    }
   ],
   "source": [
    "odds = np.exp(result.params) #get the odds, features with odds greater than 1 are positively associated with attacks\n",
    "odds\n",
    "\n",
    "#Age 30-45 odds are 1.1583 which means a 15.8% increase in comments labelled as attack\n",
    "#Age under 18 odds are 0.74246 which means .74 comments will be attacks for every 1 that is not. ~1 in 2 non-events."
   ]
  },
  {
   "source": [
    "Comparing the different gender breakdowns we can see that labelers who identified as other were more than twice as likely to mark a comment as an attack than labelers who identified as male or female. \n",
    "\n",
    "Having less than 1% of the labelers identified as other biases the data because according to the LGBTQ+ Population Quick Facts in 2017 about 4.5% of US adults identified as LGBT and 8.2% of millenials identified as LGBT (source: https://diversity.iupui.edu/offices/lgbtq/images/LGBT-Population-Quick-Facts.pdf). It would be better to have a higher, more representative percentage of labelers who identify as other given this makes a large difference in how the data is labelled."
   ],
   "cell_type": "markdown",
   "metadata": {}
  },
  {
   "cell_type": "code",
   "execution_count": 243,
   "metadata": {
    "tags": []
   },
   "outputs": [
    {
     "output_type": "stream",
     "name": "stdout",
     "text": "P(Attack=True | English is first language):\n 0.0    0.818531\n1.0    0.181469\nName: attack, dtype: float64\n\nP(Attack=True | English is not first language):\n 0.0    0.838578\n1.0    0.161422\nName: attack, dtype: float64\n\nP(Attack=True | Other):\n 0.0    0.554217\n1.0    0.445783\nName: attack, dtype: float64\n"
    }
   ],
   "source": [
    "print(\"P(Attack=True | English is first language):\\n\", attack_demo_ann[attack_demo_ann[\"english_first_language\"] == 1][\"attack\"].value_counts(normalize=True))\n",
    "print(\"\\nP(Attack=True | English is not first language):\\n\", attack_demo_ann[attack_demo_ann[\"english_first_language\"] == 0][\"attack\"].value_counts(normalize=True))\n",
    "print(\"\\nP(Attack=True | Other):\\n\", attack_demo_ann[attack_demo_ann[\"gender\"] == \"other\"][\"attack\"].value_counts(normalize=True))"
   ]
  },
  {
   "source": [
    "The demographic data would be more helpful in detecting bias if there was also information on ethnicity, household income. "
   ],
   "cell_type": "code",
   "metadata": {},
   "execution_count": null,
   "outputs": []
  }
 ]
}